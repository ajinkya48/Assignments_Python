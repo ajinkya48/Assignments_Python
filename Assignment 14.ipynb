{
 "cells": [
  {
   "cell_type": "markdown",
   "id": "ec8bf30e",
   "metadata": {},
   "source": [
    "What does RGBA stand for?"
   ]
  },
  {
   "cell_type": "markdown",
   "id": "3f9d1212",
   "metadata": {},
   "source": [
    "- red, green, blue, alpha"
   ]
  },
  {
   "cell_type": "markdown",
   "id": "1a93a402",
   "metadata": {},
   "source": [
    "From the Pillow module, how do you get the RGBA value of any images?"
   ]
  },
  {
   "cell_type": "markdown",
   "id": "554439c3",
   "metadata": {},
   "source": [
    "- import the Image module from the Pillow library. from PIL import Image.\n",
    "- Open any image and get the RAGBAG values. img = Image.open('image.png') rgba = img.convert(“RGBA”)\n",
    "- Change the color. Data will be an Imaging Core object containing thousands of tuples of RGBA values\n",
    "- Store the changed image."
   ]
  },
  {
   "cell_type": "markdown",
   "id": "8bedd0e1",
   "metadata": {},
   "source": [
    "What is a box tuple, and how does it work?"
   ]
  },
  {
   "cell_type": "markdown",
   "id": "13ce13dd",
   "metadata": {},
   "source": [
    "- The box. tuple submodule provides read-only access for the tuple userdata type."
   ]
  },
  {
   "cell_type": "markdown",
   "id": "b3f52527",
   "metadata": {},
   "source": [
    "Use your image and load in notebook then, How can you find out the width and height of an\n",
    "Image object?"
   ]
  },
  {
   "cell_type": "markdown",
   "id": "23522cf7",
   "metadata": {},
   "source": [
    "- PIL.Image.open() is used to open the image and then .width and .height property of Image are used to get the height and width of the image. The same results can be obtained by using .size property."
   ]
  },
  {
   "cell_type": "markdown",
   "id": "a265f620",
   "metadata": {},
   "source": [
    "What method would you call to get Image object for a 100×100 image, excluding the lower-left\n",
    "quarter of it?"
   ]
  },
  {
   "cell_type": "markdown",
   "id": "b511af45",
   "metadata": {},
   "source": [
    "- croppedIm = catIm.crop(100,100)"
   ]
  },
  {
   "cell_type": "markdown",
   "id": "fcb8c347",
   "metadata": {},
   "source": [
    "After making changes to an Image object, how could you save it as an image file?"
   ]
  },
  {
   "cell_type": "markdown",
   "id": "578adb00",
   "metadata": {},
   "source": [
    "- Image.save()"
   ]
  },
  {
   "cell_type": "markdown",
   "id": "520bc030",
   "metadata": {},
   "source": [
    "What module contains Pillow’s shape-drawing code?"
   ]
  },
  {
   "cell_type": "markdown",
   "id": "e6d07bb2",
   "metadata": {},
   "source": [
    "- ImageDraw"
   ]
  },
  {
   "cell_type": "markdown",
   "id": "8a304d2a",
   "metadata": {},
   "source": [
    "Image objects do not have drawing methods. What kind of object does? How do you get this kind\n",
    "of object?"
   ]
  }
 ],
 "metadata": {
  "kernelspec": {
   "display_name": "Python 3 (ipykernel)",
   "language": "python",
   "name": "python3"
  },
  "language_info": {
   "codemirror_mode": {
    "name": "ipython",
    "version": 3
   },
   "file_extension": ".py",
   "mimetype": "text/x-python",
   "name": "python",
   "nbconvert_exporter": "python",
   "pygments_lexer": "ipython3",
   "version": "3.8.8"
  }
 },
 "nbformat": 4,
 "nbformat_minor": 5
}
