{
 "cells": [
  {
   "cell_type": "markdown",
   "id": "8842c12b",
   "metadata": {},
   "source": [
    "What advantages do Excel spreadsheets have over CSV spreadsheets?"
   ]
  },
  {
   "cell_type": "markdown",
   "id": "c60dc1ce",
   "metadata": {},
   "source": [
    "- While Excel (XLS and XLSX) file formats are better for storing more complex data, CSV files are supported by nearly all data upload interfaces. If you are planning to move your data between platforms, export and import it from one interface to another, you might be better off with the CSV file format."
   ]
  },
  {
   "cell_type": "markdown",
   "id": "12e87b75",
   "metadata": {},
   "source": [
    "What do you pass to csv.reader() and csv.writer() to create reader and writer objects?"
   ]
  },
  {
   "cell_type": "markdown",
   "id": "66393810",
   "metadata": {},
   "source": [
    "- First, call open() and pass it 'w' to open a file in write mode. This will create the object you can then pass to csv. writer() to create a Writer object. On Windows, you'll also need to pass a blank string for the open() function's newline keyword argument."
   ]
  },
  {
   "cell_type": "markdown",
   "id": "23926cbf",
   "metadata": {},
   "source": [
    "What modes do File objects for reader and writer objects need to be opened in?"
   ]
  },
  {
   "cell_type": "markdown",
   "id": "13f88854",
   "metadata": {},
   "source": [
    "- Read (\"r\").\n",
    "- Append (\"a\")\n",
    "- Write (\"w\")\n",
    "- Create (\"x\")"
   ]
  },
  {
   "cell_type": "markdown",
   "id": "e4d8d14d",
   "metadata": {},
   "source": [
    "What method takes a list argument and writes it to a CSV file?"
   ]
  },
  {
   "cell_type": "markdown",
   "id": "2cd086be",
   "metadata": {},
   "source": [
    "- A CSV file is a bounded text format which uses a comma to separate values. The most common method to write data from a list to CSV file is the writerow() method of writer and DictWriter class"
   ]
  },
  {
   "cell_type": "markdown",
   "id": "106cb66f",
   "metadata": {},
   "source": [
    "What do the keyword arguments delimiter and line terminator do?"
   ]
  },
  {
   "cell_type": "markdown",
   "id": "e81b0008",
   "metadata": {},
   "source": [
    "- By default, the delimiter for a CSV file is a comma. The line terminator is the character that comes at the end of a row. By default, the line terminator is a newline. You can change characters to different values by using the delimiter and lineterminator keyword arguments with csv.writer()."
   ]
  },
  {
   "cell_type": "markdown",
   "id": "4810c125",
   "metadata": {},
   "source": [
    "What function takes a string of JSON data and returns a Python data structure?"
   ]
  },
  {
   "cell_type": "markdown",
   "id": "624cd21d",
   "metadata": {},
   "source": [
    "-  json.loads()"
   ]
  },
  {
   "cell_type": "markdown",
   "id": "617da35e",
   "metadata": {},
   "source": [
    "What function takes a Python data structure and returns a string of JSON data?"
   ]
  },
  {
   "cell_type": "markdown",
   "id": "275dec2a",
   "metadata": {},
   "source": [
    "- json.dumps()"
   ]
  }
 ],
 "metadata": {
  "kernelspec": {
   "display_name": "Python 3 (ipykernel)",
   "language": "python",
   "name": "python3"
  },
  "language_info": {
   "codemirror_mode": {
    "name": "ipython",
    "version": 3
   },
   "file_extension": ".py",
   "mimetype": "text/x-python",
   "name": "python",
   "nbconvert_exporter": "python",
   "pygments_lexer": "ipython3",
   "version": "3.8.8"
  }
 },
 "nbformat": 4,
 "nbformat_minor": 5
}
