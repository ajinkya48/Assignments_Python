{
 "cells": [
  {
   "cell_type": "markdown",
   "id": "0917f7d6",
   "metadata": {},
   "source": [
    "Create an assert statement that throws an AssertionError if the variable spam is a negative\n",
    "integer."
   ]
  },
  {
   "cell_type": "markdown",
   "id": "57810a0c",
   "metadata": {},
   "source": [
    "- assert spam < 0, 'The spam variable is negative.'"
   ]
  },
  {
   "cell_type": "markdown",
   "id": "e0a43e4a",
   "metadata": {},
   "source": [
    "Write an assert statement that triggers an AssertionError if the variables eggs and bacon contain\n",
    "strings that are the same as each other, even if their cases are different (that is, &#39;hello&#39; and &#39;hello&#39; are\n",
    "considered the same, and &#39;goodbye&#39; and &#39;GOODbye&#39; are also considered the same)."
   ]
  },
  {
   "cell_type": "markdown",
   "id": "fee6b8dd",
   "metadata": {},
   "source": [
    "- assert eggs.lower() != bacon.lower(), 'The eggs and bacon variables are the same!' or assert eggs.upper() != bacon.upper(), 'The eggs and bacon variables are the same!'"
   ]
  },
  {
   "cell_type": "markdown",
   "id": "cfedfdc8",
   "metadata": {},
   "source": [
    "Create an assert statement that throws an AssertionError every time."
   ]
  },
  {
   "cell_type": "markdown",
   "id": "c69df648",
   "metadata": {},
   "source": [
    "- assert False, 'This assertion always triggers.'"
   ]
  },
  {
   "cell_type": "markdown",
   "id": "757f7ecb",
   "metadata": {},
   "source": [
    "What are the two lines that must be present in your software in order to call logging.debug()?"
   ]
  },
  {
   "cell_type": "markdown",
   "id": "d7e7a423",
   "metadata": {},
   "source": [
    "- import logging\n",
    "- logging.basicConfig(level=logging.DEBUG, format=' %(asctime)s -\n",
    "%(levelname)s - %(message)s')"
   ]
  },
  {
   "cell_type": "markdown",
   "id": "a91c628a",
   "metadata": {},
   "source": [
    "What are the two lines that your program must have in order to have logging.debug() send a\n",
    "logging message to a file named programLog.txt?"
   ]
  },
  {
   "cell_type": "markdown",
   "id": "1627ca61",
   "metadata": {},
   "source": [
    "- import logging\n",
    "\n",
    "- logging.basicConfig(filename='programLog.txt', level=logging.DEBUG,\n",
    "format=' %(asctime)s - %(levelname)s - %(message)s')\n",
    "\n",
    "\n"
   ]
  },
  {
   "cell_type": "markdown",
   "id": "585e8272",
   "metadata": {},
   "source": [
    "What are the five levels of logging?"
   ]
  },
  {
   "cell_type": "markdown",
   "id": "fc46e0f9",
   "metadata": {},
   "source": [
    "- DEBUG, INFO, WARNING, ERROR, and CRITICAL"
   ]
  },
  {
   "cell_type": "markdown",
   "id": "7e9c3509",
   "metadata": {},
   "source": [
    "What line of code would you add to your software to disable all logging messages?"
   ]
  },
  {
   "cell_type": "markdown",
   "id": "d073afd2",
   "metadata": {},
   "source": [
    "- logging.disable(logging.CRITICAL)"
   ]
  },
  {
   "cell_type": "markdown",
   "id": "b93a4178",
   "metadata": {},
   "source": [
    "Why is using logging messages better than using print() to display the same message?"
   ]
  },
  {
   "cell_type": "markdown",
   "id": "03448af8",
   "metadata": {},
   "source": [
    "- You can disable logging messages without removing the logging function calls. You can selectively disable lower-level logging messages. You can create logging messages. Logging messages provides a timestamp."
   ]
  },
  {
   "cell_type": "markdown",
   "id": "cd889df0",
   "metadata": {},
   "source": [
    "What are the differences between the Step Over, Step In, and Step Out buttons in the debugger?"
   ]
  },
  {
   "cell_type": "markdown",
   "id": "c732372b",
   "metadata": {},
   "source": [
    "- The Step button will move the debugger into a function call. The Over button will quickly execute the function call without stepping into it. The Out button will quickly execute the rest of the code until it steps out of the function it currently is in."
   ]
  },
  {
   "cell_type": "markdown",
   "id": "a912721b",
   "metadata": {},
   "source": [
    "After you click Continue, when will the debugger stop ?"
   ]
  },
  {
   "cell_type": "markdown",
   "id": "a5df093f",
   "metadata": {},
   "source": [
    "- After you click Go, the debugger will stop when it has reached the end of the program or a line with a breakpoint."
   ]
  },
  {
   "cell_type": "markdown",
   "id": "12718096",
   "metadata": {},
   "source": [
    "What is the concept of a breakpoint?"
   ]
  },
  {
   "cell_type": "markdown",
   "id": "64e4d2b0",
   "metadata": {},
   "source": [
    "- A breakpoint is a setting on a line of code that causes the debugger to pause when the program execution reaches the line."
   ]
  }
 ],
 "metadata": {
  "kernelspec": {
   "display_name": "Python 3 (ipykernel)",
   "language": "python",
   "name": "python3"
  },
  "language_info": {
   "codemirror_mode": {
    "name": "ipython",
    "version": 3
   },
   "file_extension": ".py",
   "mimetype": "text/x-python",
   "name": "python",
   "nbconvert_exporter": "python",
   "pygments_lexer": "ipython3",
   "version": "3.8.8"
  }
 },
 "nbformat": 4,
 "nbformat_minor": 5
}
