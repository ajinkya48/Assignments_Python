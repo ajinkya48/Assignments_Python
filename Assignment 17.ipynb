{
 "cells": [
  {
   "cell_type": "markdown",
   "id": "697d7a0d",
   "metadata": {},
   "source": [
    "Q. Assign the value 7 to the variable guess_me. Then, write the conditional tests (if, else, and elif) to\n",
    "print the string &#39;too low&#39; if guess_me is less than 7, &#39;too high&#39; if greater than 7, and &#39;just right&#39; if equal\n",
    "to 7."
   ]
  },
  {
   "cell_type": "code",
   "execution_count": 3,
   "id": "405fe401",
   "metadata": {},
   "outputs": [
    {
     "name": "stdout",
     "output_type": "stream",
     "text": [
      "7\n",
      "just right\n"
     ]
    }
   ],
   "source": [
    "num = int(input())\n",
    "guess_me = 7\n",
    "if num < 7:\n",
    "    print('too low')\n",
    "elif num > 7:\n",
    "    print('too high')\n",
    "else:\n",
    "    print('just right')"
   ]
  },
  {
   "cell_type": "markdown",
   "id": "325ed865",
   "metadata": {},
   "source": [
    "Q. Assign the value 7 to the variable guess_me and the value 1 to the variable start. Write a while\n",
    "loop that compares start with guess_me. Print too low if start is less than guess me. If start equals\n",
    "guess_me, print &#39;found it!&#39; and exit the loop. If start is greater than guess_me, print &#39;oops&#39; and exit\n",
    "the loop. Increment start at the end of the loop."
   ]
  },
  {
   "cell_type": "code",
   "execution_count": 6,
   "id": "93469157",
   "metadata": {},
   "outputs": [
    {
     "name": "stdout",
     "output_type": "stream",
     "text": [
      "too low\n",
      "too low\n",
      "too low\n",
      "too low\n",
      "too low\n",
      "too low\n",
      "just right\n"
     ]
    }
   ],
   "source": [
    "start = 1\n",
    "guess_me = 7\n",
    "while True:\n",
    "    if start < guess_me:\n",
    "        print('too low')\n",
    "    elif start == guess_me:\n",
    "        print('just right')\n",
    "        break\n",
    "    else:\n",
    "        print('oops')\n",
    "        break\n",
    "    start += 1"
   ]
  },
  {
   "cell_type": "markdown",
   "id": "8a66ff7e",
   "metadata": {},
   "source": [
    "Q. Print the following values of the list [3, 2, 1, 0] using a for loop."
   ]
  },
  {
   "cell_type": "code",
   "execution_count": 7,
   "id": "55f795de",
   "metadata": {},
   "outputs": [
    {
     "name": "stdout",
     "output_type": "stream",
     "text": [
      "3\n",
      "2\n",
      "1\n",
      "0\n"
     ]
    }
   ],
   "source": [
    "l = [3,2,1,0]\n",
    "for i in l:\n",
    "    print(i)"
   ]
  },
  {
   "cell_type": "markdown",
   "id": "cf1f8c9a",
   "metadata": {},
   "source": [
    "Q. Use a list comprehension to make a list of the even numbers in range(10)"
   ]
  },
  {
   "cell_type": "code",
   "execution_count": 12,
   "id": "4d7f5f4f",
   "metadata": {},
   "outputs": [
    {
     "name": "stdout",
     "output_type": "stream",
     "text": [
      "[0, 2, 4, 6, 8]\n"
     ]
    }
   ],
   "source": [
    "print([i for i in range(0,10) if i%2 == 0])"
   ]
  },
  {
   "cell_type": "markdown",
   "id": "c570b23e",
   "metadata": {},
   "source": [
    "Q. Use a dictionary comprehension to create the dictionary squares. Use range(10) to return the\n",
    "keys, and use the square of each key as its value."
   ]
  },
  {
   "cell_type": "code",
   "execution_count": 13,
   "id": "448bcd47",
   "metadata": {},
   "outputs": [
    {
     "name": "stdout",
     "output_type": "stream",
     "text": [
      "{0: 0, 1: 1, 2: 4, 3: 9, 4: 16, 5: 25, 6: 36, 7: 49, 8: 64, 9: 81}\n"
     ]
    }
   ],
   "source": [
    "print({i:i**2 for i in range(0,10)})"
   ]
  },
  {
   "cell_type": "markdown",
   "id": "10203923",
   "metadata": {},
   "source": [
    "Q. Construct the set odd from the odd numbers in the range using a set comprehension (10)."
   ]
  },
  {
   "cell_type": "code",
   "execution_count": 14,
   "id": "38dbb4c8",
   "metadata": {},
   "outputs": [
    {
     "name": "stdout",
     "output_type": "stream",
     "text": [
      "[1, 3, 5, 7, 9]\n"
     ]
    }
   ],
   "source": [
    "print([i for i in range(0,10) if i%2 != 0])"
   ]
  },
  {
   "cell_type": "markdown",
   "id": "f4fd0b19",
   "metadata": {},
   "source": [
    "Q. Use a generator comprehension to return the string &#39;Got &#39; and a number for the numbers in\n",
    "range(10). Iterate through this by using a for loop."
   ]
  },
  {
   "cell_type": "code",
   "execution_count": 22,
   "id": "ab7ebc2b",
   "metadata": {},
   "outputs": [
    {
     "name": "stdout",
     "output_type": "stream",
     "text": [
      "got_0 got_1 got_2 got_3 got_4 got_5 got_6 got_7 got_8 got_9 "
     ]
    }
   ],
   "source": [
    "gen = (\"got_\" + str(i) for i in range(0,10))\n",
    "for i in gen:\n",
    "    print(i, end=' ')"
   ]
  },
  {
   "cell_type": "markdown",
   "id": "454bb67d",
   "metadata": {},
   "source": [
    "Q. Define a function called good that returns the list [&#39;Harry&#39;, &#39;Ron&#39;, &#39;Hermione&#39;]."
   ]
  },
  {
   "cell_type": "code",
   "execution_count": 27,
   "id": "a9151196",
   "metadata": {},
   "outputs": [
    {
     "name": "stdout",
     "output_type": "stream",
     "text": [
      "['Harry', 'Ron', 'Hermione']\n"
     ]
    }
   ],
   "source": [
    "def good():\n",
    "    return(['Harry', 'Ron', 'Hermione'])\n",
    "print(good())"
   ]
  },
  {
   "cell_type": "markdown",
   "id": "56ef20a3",
   "metadata": {},
   "source": [
    "Q. Define a generator function called get_odds that returns the odd numbers from range(10). Use a\n",
    "for loop to find and print the third value returned."
   ]
  },
  {
   "cell_type": "code",
   "execution_count": 38,
   "id": "090549eb",
   "metadata": {},
   "outputs": [
    {
     "data": {
      "text/plain": [
       "5"
      ]
     },
     "execution_count": 38,
     "metadata": {},
     "output_type": "execute_result"
    }
   ],
   "source": [
    "def get_odds():\n",
    "    l = []\n",
    "    for i in range(0,10):\n",
    "        if i%2 != 0:\n",
    "            l.append(i)\n",
    "    yield l\n",
    "\n",
    "next(get_odds())[2]"
   ]
  },
  {
   "cell_type": "markdown",
   "id": "fee006d9",
   "metadata": {},
   "source": [
    "Q. Define an exception called OopsException. Raise this exception to see what happens. Then write\n",
    "the code to catch this exception and print &#39;Caught an oops&#39;."
   ]
  },
  {
   "cell_type": "code",
   "execution_count": 41,
   "id": "815d8c29",
   "metadata": {},
   "outputs": [
    {
     "name": "stdout",
     "output_type": "stream",
     "text": [
      "Caught in oops -> name 'a' is not defined\n"
     ]
    }
   ],
   "source": [
    "class OopsException(Exception):\n",
    "    pass\n",
    "\n",
    "def test(input):\n",
    "    if input < 0 :\n",
    "        raise OopsException(a)\n",
    "        \n",
    "try:\n",
    "    test(-2)\n",
    "except Exception as e:\n",
    "    print('Caught in oops ->',e)"
   ]
  },
  {
   "cell_type": "markdown",
   "id": "5a1a62fc",
   "metadata": {},
   "source": [
    "Q. Use zip() to make a dictionary called movies that pairs these lists: titles = ['Creature of Habit', 'Crewel Fate'] and plots = ['A nun turns into a monster', 'A haunted yarn shop']."
   ]
  },
  {
   "cell_type": "code",
   "execution_count": 42,
   "id": "f296ff0f",
   "metadata": {},
   "outputs": [
    {
     "name": "stdout",
     "output_type": "stream",
     "text": [
      "{'Creature of Habit': 'A nun turns into a monster', 'Crewel Fate': 'A haunted yarn shop'}\n"
     ]
    }
   ],
   "source": [
    "titles = ['Creature of Habit', 'Crewel Fate']\n",
    "plots = ['A nun turns into a monster', 'A haunted yarn shop']\n",
    "output = dict(zip(titles, plots))\n",
    "print(output)"
   ]
  }
 ],
 "metadata": {
  "kernelspec": {
   "display_name": "Python 3 (ipykernel)",
   "language": "python",
   "name": "python3"
  },
  "language_info": {
   "codemirror_mode": {
    "name": "ipython",
    "version": 3
   },
   "file_extension": ".py",
   "mimetype": "text/x-python",
   "name": "python",
   "nbconvert_exporter": "python",
   "pygments_lexer": "ipython3",
   "version": "3.8.8"
  }
 },
 "nbformat": 4,
 "nbformat_minor": 5
}
