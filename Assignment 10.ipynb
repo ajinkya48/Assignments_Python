{
 "cells": [
  {
   "cell_type": "markdown",
   "id": "66698d29",
   "metadata": {},
   "source": [
    "How do you distinguish between shutil.copy() and shutil.copytree()?"
   ]
  },
  {
   "cell_type": "markdown",
   "id": "3290599d",
   "metadata": {},
   "source": [
    "- While shutil.copy() will copy a single file, shutil.copytree() will copy an entire folder and every folder and file contained in it."
   ]
  },
  {
   "cell_type": "markdown",
   "id": "d0e9e1bf",
   "metadata": {},
   "source": [
    "What function is used to rename files??"
   ]
  },
  {
   "cell_type": "markdown",
   "id": "c0b72c99",
   "metadata": {},
   "source": [
    "- rename() method is used to rename a file or directory"
   ]
  },
  {
   "cell_type": "markdown",
   "id": "382f6ef8",
   "metadata": {},
   "source": [
    "What is the difference between the delete functions in the send2trash and shutil modules?"
   ]
  },
  {
   "cell_type": "markdown",
   "id": "d34b5003",
   "metadata": {},
   "source": [
    "- The send2trash functions will move a file or folder to the recycle bin, while shutil functions will permanently delete files and folders."
   ]
  },
  {
   "cell_type": "markdown",
   "id": "d587b0a1",
   "metadata": {},
   "source": [
    "ZipFile objects have a close() method just like File objects’ close() method. What ZipFile method is\n",
    "equivalent to File objects’ open() method?"
   ]
  },
  {
   "cell_type": "markdown",
   "id": "336f8c2e",
   "metadata": {},
   "source": [
    "- zipfile. ZipFile()"
   ]
  },
  {
   "cell_type": "markdown",
   "id": "0e38bb3e",
   "metadata": {},
   "source": [
    "Create a programme that searches a folder tree for files with a certain file extension (such as .pdf\n",
    "or .jpg). Copy these files from whatever location they are in to a new folder."
   ]
  },
  {
   "cell_type": "markdown",
   "id": "1090079e",
   "metadata": {},
   "source": [
    "- import shutil, os\n",
    "- os.chdir('C:\\\\')\n",
    "- shutil.copy('C:\\\\spam.txt', 'C:\\\\delicious')"
   ]
  }
 ],
 "metadata": {
  "kernelspec": {
   "display_name": "Python 3 (ipykernel)",
   "language": "python",
   "name": "python3"
  },
  "language_info": {
   "codemirror_mode": {
    "name": "ipython",
    "version": 3
   },
   "file_extension": ".py",
   "mimetype": "text/x-python",
   "name": "python",
   "nbconvert_exporter": "python",
   "pygments_lexer": "ipython3",
   "version": "3.8.8"
  }
 },
 "nbformat": 4,
 "nbformat_minor": 5
}
