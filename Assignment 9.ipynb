{
 "cells": [
  {
   "cell_type": "markdown",
   "id": "bd42accc",
   "metadata": {},
   "source": [
    "To what does a relative path refer?"
   ]
  },
  {
   "cell_type": "markdown",
   "id": "fd80417b",
   "metadata": {},
   "source": [
    "- a location that is relative to a current directory"
   ]
  },
  {
   "cell_type": "markdown",
   "id": "2d812dc1",
   "metadata": {},
   "source": [
    "What does an absolute path start with your operating system?"
   ]
  },
  {
   "cell_type": "markdown",
   "id": "395e97f9",
   "metadata": {},
   "source": [
    "- This path will begin at the home directory of your computer and will end with the file or directory that you wish to access"
   ]
  },
  {
   "cell_type": "markdown",
   "id": "964ba7c8",
   "metadata": {},
   "source": [
    "What do the functions os.getcwd() and os.chdir() do?"
   ]
  },
  {
   "cell_type": "markdown",
   "id": "ed35b1a1",
   "metadata": {},
   "source": [
    "- getcwd() : CWD stands for Current Working Directory. This function allows you to see what your current working directory is. chdir(\"path-to-dir\") : Short for CHange DIRectory, this function allows you to set the current working directory to a path of your choice."
   ]
  },
  {
   "cell_type": "markdown",
   "id": "438b5d6b",
   "metadata": {},
   "source": [
    "What are the . and .. folders?"
   ]
  },
  {
   "cell_type": "markdown",
   "id": "e969f668",
   "metadata": {},
   "source": [
    "- '. ' represents the current directory. While '..' represents the parent directory"
   ]
  },
  {
   "cell_type": "markdown",
   "id": "5621bce1",
   "metadata": {},
   "source": [
    "In C:\\bacon\\eggs\\spam.txt, which part is the dir name, and which part is the base name?"
   ]
  },
  {
   "cell_type": "markdown",
   "id": "d5159959",
   "metadata": {},
   "source": [
    "- C:\\bacon\\eggs is the dir name, while spam. txt is the base name."
   ]
  },
  {
   "cell_type": "markdown",
   "id": "c1b5a539",
   "metadata": {},
   "source": [
    "What are the three “mode” arguments that can be passed to the open() function?"
   ]
  },
  {
   "cell_type": "markdown",
   "id": "bd621733",
   "metadata": {},
   "source": [
    "- The string 'r' for read mode, 'w' for write mode, and 'a' for append mode"
   ]
  },
  {
   "cell_type": "markdown",
   "id": "78549091",
   "metadata": {},
   "source": [
    "What happens if an existing file is opened in write mode?"
   ]
  },
  {
   "cell_type": "markdown",
   "id": "0203a497",
   "metadata": {},
   "source": [
    "- An existing file opened in write mode is erased and completely overwritten."
   ]
  },
  {
   "cell_type": "markdown",
   "id": "a16df1fd",
   "metadata": {},
   "source": [
    "How do you tell the difference between read() and readlines()?"
   ]
  },
  {
   "cell_type": "markdown",
   "id": "79b71abc",
   "metadata": {},
   "source": [
    "- The read() method returns the file's entire contents as a single string value. The readlines() method returns a list of strings, where each string is a line from the file's contents."
   ]
  },
  {
   "cell_type": "markdown",
   "id": "84c04d82",
   "metadata": {},
   "source": [
    "What data structure does a shelf value resemble?"
   ]
  },
  {
   "cell_type": "markdown",
   "id": "88f331f0",
   "metadata": {},
   "source": [
    "- A shelf value resembles a dictionary value; it has keys and values, along with keys() and values() methods that work similarly to the dictionary methods of the same names."
   ]
  }
 ],
 "metadata": {
  "kernelspec": {
   "display_name": "Python 3 (ipykernel)",
   "language": "python",
   "name": "python3"
  },
  "language_info": {
   "codemirror_mode": {
    "name": "ipython",
    "version": 3
   },
   "file_extension": ".py",
   "mimetype": "text/x-python",
   "name": "python",
   "nbconvert_exporter": "python",
   "pygments_lexer": "ipython3",
   "version": "3.8.8"
  }
 },
 "nbformat": 4,
 "nbformat_minor": 5
}
